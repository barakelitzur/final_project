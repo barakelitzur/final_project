{
 "cells": [
  {
   "cell_type": "markdown",
   "id": "58695f08-d28a-43b8-a54a-8e58465c0550",
   "metadata": {},
   "source": [
    "### presenters:"
   ]
  },
  {
   "cell_type": "markdown",
   "id": "ebc40682-c583-47ca-9393-ee69d845d255",
   "metadata": {},
   "source": [
    "##### Maya Lagziel-316106509\n",
    "##### Halel Shtern-212122147\n",
    "##### Matanya Sido-20543868\n",
    "##### Barak Elitzur-315671040\n"
   ]
  },
  {
   "cell_type": "code",
   "execution_count": 370,
   "id": "c79e2877-e01e-4c78-a010-8cdcd073c6fb",
   "metadata": {},
   "outputs": [
    {
     "name": "stdout",
     "output_type": "stream",
     "text": [
      "Requirement already satisfied: pandas in c:\\users\\barak\\appdata\\local\\programs\\python\\python39\\lib\\site-packages (1.3.1)\n",
      "Requirement already satisfied: pytz>=2017.3 in c:\\users\\barak\\appdata\\local\\programs\\python\\python39\\lib\\site-packages (from pandas) (2021.1)\n",
      "Requirement already satisfied: numpy>=1.17.3 in c:\\users\\barak\\appdata\\local\\programs\\python\\python39\\lib\\site-packages (from pandas) (1.21.1)\n",
      "Requirement already satisfied: python-dateutil>=2.7.3 in c:\\users\\barak\\appdata\\local\\programs\\python\\python39\\lib\\site-packages (from pandas) (2.8.2)\n",
      "Requirement already satisfied: six>=1.5 in c:\\users\\barak\\appdata\\local\\programs\\python\\python39\\lib\\site-packages (from python-dateutil>=2.7.3->pandas) (1.16.0)\n"
     ]
    },
    {
     "name": "stderr",
     "output_type": "stream",
     "text": [
      "WARNING: You are using pip version 21.1.3; however, version 21.2.4 is available.\n",
      "You should consider upgrading via the 'c:\\users\\barak\\appdata\\local\\programs\\python\\python39\\python.exe -m pip install --upgrade pip' command.\n"
     ]
    },
    {
     "name": "stdout",
     "output_type": "stream",
     "text": [
      "Requirement already satisfied: numpy in c:\\users\\barak\\appdata\\local\\programs\\python\\python39\\lib\\site-packages (1.21.1)"
     ]
    },
    {
     "name": "stderr",
     "output_type": "stream",
     "text": [
      "WARNING: You are using pip version 21.1.3; however, version 21.2.4 is available.\n",
      "You should consider upgrading via the 'c:\\users\\barak\\appdata\\local\\programs\\python\\python39\\python.exe -m pip install --upgrade pip' command.\n"
     ]
    },
    {
     "name": "stdout",
     "output_type": "stream",
     "text": [
      "\n",
      "Requirement already satisfied: matplotlib in c:\\users\\barak\\appdata\\local\\programs\\python\\python39\\lib\\site-packages (3.4.3)\n",
      "Requirement already satisfied: cycler>=0.10 in c:\\users\\barak\\appdata\\local\\programs\\python\\python39\\lib\\site-packages (from matplotlib) (0.10.0)\n",
      "Requirement already satisfied: numpy>=1.16 in c:\\users\\barak\\appdata\\local\\programs\\python\\python39\\lib\\site-packages (from matplotlib) (1.21.1)\n",
      "Requirement already satisfied: pillow>=6.2.0 in c:\\users\\barak\\appdata\\local\\programs\\python\\python39\\lib\\site-packages (from matplotlib) (8.3.1)\n",
      "Requirement already satisfied: pyparsing>=2.2.1 in c:\\users\\barak\\appdata\\local\\programs\\python\\python39\\lib\\site-packages (from matplotlib) (2.4.7)"
     ]
    },
    {
     "name": "stderr",
     "output_type": "stream",
     "text": [
      "WARNING: You are using pip version 21.1.3; however, version 21.2.4 is available.\n",
      "You should consider upgrading via the 'c:\\users\\barak\\appdata\\local\\programs\\python\\python39\\python.exe -m pip install --upgrade pip' command.\n"
     ]
    },
    {
     "name": "stdout",
     "output_type": "stream",
     "text": [
      "\n",
      "Requirement already satisfied: python-dateutil>=2.7 in c:\\users\\barak\\appdata\\local\\programs\\python\\python39\\lib\\site-packages (from matplotlib) (2.8.2)\n",
      "Requirement already satisfied: kiwisolver>=1.0.1 in c:\\users\\barak\\appdata\\local\\programs\\python\\python39\\lib\\site-packages (from matplotlib) (1.3.1)\n",
      "Requirement already satisfied: six in c:\\users\\barak\\appdata\\local\\programs\\python\\python39\\lib\\site-packages (from cycler>=0.10->matplotlib) (1.16.0)\n",
      "Requirement already satisfied: seaborn in c:\\users\\barak\\appdata\\local\\programs\\python\\python39\\lib\\site-packages (0.11.2)\n",
      "Requirement already satisfied: pandas>=0.23 in c:\\users\\barak\\appdata\\local\\programs\\python\\python39\\lib\\site-packages (from seaborn) (1.3.1)\n",
      "Requirement already satisfied: matplotlib>=2.2 in c:\\users\\barak\\appdata\\local\\programs\\python\\python39\\lib\\site-packages (from seaborn) (3.4.3)\n",
      "Requirement already satisfied: scipy>=1.0 in c:\\users\\barak\\appdata\\local\\programs\\python\\python39\\lib\\site-packages (from seaborn) (1.7.1)\n",
      "Requirement already satisfied: numpy>=1.15 in c:\\users\\barak\\appdata\\local\\programs\\python\\python39\\lib\\site-packages (from seaborn) (1.21.1)\n",
      "Requirement already satisfied: cycler>=0.10 in c:\\users\\barak\\appdata\\local\\programs\\python\\python39\\lib\\site-packages (from matplotlib>=2.2->seaborn) (0.10.0)\n",
      "Requirement already satisfied: kiwisolver>=1.0.1 in c:\\users\\barak\\appdata\\local\\programs\\python\\python39\\lib\\site-packages (from matplotlib>=2.2->seaborn) (1.3.1)\n",
      "Requirement already satisfied: python-dateutil>=2.7 in c:\\users\\barak\\appdata\\local\\programs\\python\\python39\\lib\\site-packages (from matplotlib>=2.2->seaborn) (2.8.2)\n",
      "Requirement already satisfied: pillow>=6.2.0 in c:\\users\\barak\\appdata\\local\\programs\\python\\python39\\lib\\site-packages (from matplotlib>=2.2->seaborn) (8.3.1)\n",
      "Requirement already satisfied: pyparsing>=2.2.1 in c:\\users\\barak\\appdata\\local\\programs\\python\\python39\\lib\\site-packages (from matplotlib>=2.2->seaborn) (2.4.7)\n",
      "Requirement already satisfied: six in c:\\users\\barak\\appdata\\local\\programs\\python\\python39\\lib\\site-packages (from cycler>=0.10->matplotlib>=2.2->seaborn) (1.16.0)\n",
      "Requirement already satisfied: pytz>=2017.3 in c:\\users\\barak\\appdata\\local\\programs\\python\\python39\\lib\\site-packages (from pandas>=0.23->seaborn) (2021.1)\n"
     ]
    },
    {
     "name": "stderr",
     "output_type": "stream",
     "text": [
      "WARNING: You are using pip version 21.1.3; however, version 21.2.4 is available.\n",
      "You should consider upgrading via the 'c:\\users\\barak\\appdata\\local\\programs\\python\\python39\\python.exe -m pip install --upgrade pip' command.\n"
     ]
    }
   ],
   "source": [
    "!pip install pandas\n",
    "!pip install numpy\n",
    "!pip install matplotlib\n",
    "!pip install seaborn"
   ]
  },
  {
   "cell_type": "code",
   "execution_count": 371,
   "id": "4e79b890-2737-42af-83e5-b38524755eab",
   "metadata": {},
   "outputs": [],
   "source": [
    "import numpy as np\n",
    "import pandas as pd\n",
    "from matplotlib import pyplot as plt\n",
    "import seaborn as sns"
   ]
  },
  {
   "cell_type": "code",
   "execution_count": 372,
   "id": "55aa2b94-13c1-4c71-868b-1e97188f70c1",
   "metadata": {},
   "outputs": [],
   "source": [
    "url = 'https://raw.githubusercontent.com/barakelitzur/final_project/main/Airplane_Crashes_and_Fatalities_Since_1908_20190820105639.csv'\n",
    "Crashes_df = pd.read_csv(url)\n",
    "#Crashes_df"
   ]
  },
  {
   "cell_type": "code",
   "execution_count": 373,
   "id": "cea94e3a-4d0c-4412-bd58-a43f2f3d9ec4",
   "metadata": {},
   "outputs": [
    {
     "data": {
      "text/plain": [
       "Date                      object\n",
       "Time                      object\n",
       "Location                  object\n",
       "Operator                  object\n",
       "Flight #                  object\n",
       "Route                     object\n",
       "AC Type                   object\n",
       "Registration              object\n",
       "cn/ln                     object\n",
       "Aboard                   float64\n",
       "Aboard Passangers        float64\n",
       "Aboard Crew              float64\n",
       "Fatalities               float64\n",
       "Fatalities Passangers    float64\n",
       "Fatalities Crew          float64\n",
       "Ground                   float64\n",
       "Summary                   object\n",
       "dtype: object"
      ]
     },
     "execution_count": 373,
     "metadata": {},
     "output_type": "execute_result"
    }
   ],
   "source": [
    "Crashes_df.dtypes"
   ]
  },
  {
   "cell_type": "code",
   "execution_count": 374,
   "id": "1f13e9bc-a8a5-4462-b78d-2380d51f9a7f",
   "metadata": {},
   "outputs": [],
   "source": [
    "Crashes_df.columns =Crashes_df.columns.str.replace('#', 'number')"
   ]
  },
  {
   "cell_type": "markdown",
   "id": "a65430ed-b431-4dc3-9776-bcc2c30da2f7",
   "metadata": {},
   "source": [
    "ראינו שיש סולמית ב\"פלייט\" ולכן שינינו אותה ל\"נמבר\" בכדי שלא יהיה סולמית"
   ]
  },
  {
   "cell_type": "code",
   "execution_count": 375,
   "id": "d77d8538-0fdf-4a65-b9e5-34c15f18a979",
   "metadata": {},
   "outputs": [
    {
     "data": {
      "text/plain": [
       "Date                      object\n",
       "Time                      object\n",
       "Location                  object\n",
       "Operator                  object\n",
       "Flight number             object\n",
       "Route                     object\n",
       "AC Type                   object\n",
       "Registration              object\n",
       "cn/ln                     object\n",
       "Aboard                   float64\n",
       "Aboard Passangers        float64\n",
       "Aboard Crew              float64\n",
       "Fatalities               float64\n",
       "Fatalities Passangers    float64\n",
       "Fatalities Crew          float64\n",
       "Ground                   float64\n",
       "Summary                   object\n",
       "dtype: object"
      ]
     },
     "execution_count": 375,
     "metadata": {},
     "output_type": "execute_result"
    }
   ],
   "source": [
    "Crashes_df.dtypes"
   ]
  },
  {
   "cell_type": "code",
   "execution_count": 376,
   "id": "494b31db-57a5-48e5-9ea0-53b9ae0897e2",
   "metadata": {},
   "outputs": [],
   "source": [
    "Crashes_df['Date'] = pd.to_datetime(Crashes_df['Date'])\n",
    "Crashes_df['year'] = pd.DatetimeIndex(Crashes_df['Date']).year\n",
    "Crashes_df['month'] = pd.DatetimeIndex(Crashes_df['Date']).month"
   ]
  },
  {
   "cell_type": "markdown",
   "id": "59a7609c-d1a6-4909-9311-c71240463269",
   "metadata": {},
   "source": [
    "הפכנו את התאריך ל\"דייט טיים\" והוספנו עמודות של שנה וחודש"
   ]
  },
  {
   "cell_type": "code",
   "execution_count": 377,
   "id": "0a615639-f2bc-4581-af86-a19786760c9b",
   "metadata": {},
   "outputs": [
    {
     "data": {
      "text/plain": [
       "Flight number            3652\n",
       "Time                     1510\n",
       "Route                     774\n",
       "cn/ln                     668\n",
       "Registration              273\n",
       "Fatalities Passangers     242\n",
       "Fatalities Crew           241\n",
       "Aboard Passangers         229\n",
       "Aboard Crew               226\n",
       "Summary                    64\n",
       "Ground                     41\n",
       "Aboard                     18\n",
       "AC Type                    15\n",
       "Operator                   10\n",
       "Fatalities                  8\n",
       "Location                    4\n",
       "year                        0\n",
       "Date                        0\n",
       "month                       0\n",
       "dtype: int64"
      ]
     },
     "execution_count": 377,
     "metadata": {},
     "output_type": "execute_result"
    }
   ],
   "source": [
    "Crashes_df.isnull().sum().sort_values(ascending=False)"
   ]
  },
  {
   "cell_type": "markdown",
   "id": "6c3c2166-97d6-49b4-94b2-93279cfd093e",
   "metadata": {},
   "source": [
    "בדקנו איזה עמודות יש לנו בהם \"נאל\" בכדי שנדע לתקן במידת הצורך"
   ]
  },
  {
   "cell_type": "markdown",
   "id": "a11fab41-423f-4bd2-a8a0-a784c7e6e2e8",
   "metadata": {},
   "source": [
    "אין מה לתקן מספר טיסה כי זהו נתון שלא מעניין אותנו\n",
    "אין מה לתקן שעת טיסה כי זהו נתון שלא מעניין אותנו כי לא ניתן לדעת באיזה שעה מדובר (לפי איזה אזור זמן)"
   ]
  },
  {
   "cell_type": "code",
   "execution_count": 378,
   "id": "74cfaff7-77fc-4d45-b75f-b9f2d36effab",
   "metadata": {},
   "outputs": [],
   "source": [
    "Crashes_df['Fatalities Passangers'] = Crashes_df['Fatalities Passangers'].isnull()==False\n",
    "Crashes_df['Fatalities Crew'] = Crashes_df['Fatalities Crew'].isnull()==False\n",
    "Crashes_df['Fatalities'] = Crashes_df['Fatalities'].isnull()==False"
   ]
  },
  {
   "cell_type": "markdown",
   "id": "84b295a4-e919-4c1b-b426-95110bb404f9",
   "metadata": {},
   "source": [
    "מחקנו את השורות שלא כתוב לנו בהם מה כמות המתים כי לא נוכל להשתמש לנתח שורות אלו\n",
    "ניתן לוותר על שורות אלו מכייון שביחס הם לא קריטיות ולא ניתן למלא אותם כי לא ניתן לשער כמו אנשים מתים"
   ]
  },
  {
   "cell_type": "code",
   "execution_count": 379,
   "id": "c4f6e049-5597-4937-be92-4d7df97fbc14",
   "metadata": {},
   "outputs": [
    {
     "data": {
      "text/plain": [
       "Flight number            3652\n",
       "Time                     1510\n",
       "Route                     774\n",
       "cn/ln                     668\n",
       "Registration              273\n",
       "Aboard Passangers         229\n",
       "Aboard Crew               226\n",
       "Summary                    64\n",
       "Ground                     41\n",
       "Aboard                     18\n",
       "AC Type                    15\n",
       "Operator                   10\n",
       "Location                    4\n",
       "year                        0\n",
       "Date                        0\n",
       "Fatalities Crew             0\n",
       "Fatalities Passangers       0\n",
       "Fatalities                  0\n",
       "month                       0\n",
       "dtype: int64"
      ]
     },
     "execution_count": 379,
     "metadata": {},
     "output_type": "execute_result"
    }
   ],
   "source": [
    "Crashes_df.isnull().sum().sort_values(ascending=False)"
   ]
  },
  {
   "cell_type": "code",
   "execution_count": 380,
   "id": "2bf745d3-77c3-4a35-b77d-d6c94cac2607",
   "metadata": {},
   "outputs": [
    {
     "data": {
      "text/html": [
       "<div>\n",
       "<style scoped>\n",
       "    .dataframe tbody tr th:only-of-type {\n",
       "        vertical-align: middle;\n",
       "    }\n",
       "\n",
       "    .dataframe tbody tr th {\n",
       "        vertical-align: top;\n",
       "    }\n",
       "\n",
       "    .dataframe thead th {\n",
       "        text-align: right;\n",
       "    }\n",
       "</style>\n",
       "<table border=\"1\" class=\"dataframe\">\n",
       "  <thead>\n",
       "    <tr style=\"text-align: right;\">\n",
       "      <th></th>\n",
       "      <th>year</th>\n",
       "      <th>Date</th>\n",
       "    </tr>\n",
       "  </thead>\n",
       "  <tbody>\n",
       "    <tr>\n",
       "      <th>0</th>\n",
       "      <td>1908</td>\n",
       "      <td>1</td>\n",
       "    </tr>\n",
       "    <tr>\n",
       "      <th>1</th>\n",
       "      <td>1909</td>\n",
       "      <td>1</td>\n",
       "    </tr>\n",
       "    <tr>\n",
       "      <th>2</th>\n",
       "      <td>1912</td>\n",
       "      <td>1</td>\n",
       "    </tr>\n",
       "    <tr>\n",
       "      <th>3</th>\n",
       "      <td>1913</td>\n",
       "      <td>3</td>\n",
       "    </tr>\n",
       "    <tr>\n",
       "      <th>4</th>\n",
       "      <td>1915</td>\n",
       "      <td>2</td>\n",
       "    </tr>\n",
       "    <tr>\n",
       "      <th>...</th>\n",
       "      <td>...</td>\n",
       "      <td>...</td>\n",
       "    </tr>\n",
       "    <tr>\n",
       "      <th>104</th>\n",
       "      <td>2015</td>\n",
       "      <td>18</td>\n",
       "    </tr>\n",
       "    <tr>\n",
       "      <th>105</th>\n",
       "      <td>2016</td>\n",
       "      <td>23</td>\n",
       "    </tr>\n",
       "    <tr>\n",
       "      <th>106</th>\n",
       "      <td>2017</td>\n",
       "      <td>15</td>\n",
       "    </tr>\n",
       "    <tr>\n",
       "      <th>107</th>\n",
       "      <td>2018</td>\n",
       "      <td>16</td>\n",
       "    </tr>\n",
       "    <tr>\n",
       "      <th>108</th>\n",
       "      <td>2019</td>\n",
       "      <td>9</td>\n",
       "    </tr>\n",
       "  </tbody>\n",
       "</table>\n",
       "<p>109 rows × 2 columns</p>\n",
       "</div>"
      ],
      "text/plain": [
       "     year  Date\n",
       "0    1908     1\n",
       "1    1909     1\n",
       "2    1912     1\n",
       "3    1913     3\n",
       "4    1915     2\n",
       "..    ...   ...\n",
       "104  2015    18\n",
       "105  2016    23\n",
       "106  2017    15\n",
       "107  2018    16\n",
       "108  2019     9\n",
       "\n",
       "[109 rows x 2 columns]"
      ]
     },
     "execution_count": 380,
     "metadata": {},
     "output_type": "execute_result"
    }
   ],
   "source": [
    "#crash_num=Crashes_df['year']\n",
    "Crashes_by_year_df=Crashes_df.groupby(\"year\")[[\"Date\"]].count().reset_index()\n",
    "Crashes_by_year_df"
   ]
  },
  {
   "cell_type": "code",
   "execution_count": 381,
   "id": "c6e11a99-9a01-483e-a502-2a929d671e3d",
   "metadata": {},
   "outputs": [
    {
     "data": {
      "text/plain": [
       "<AxesSubplot:xlabel='year', ylabel='Date'>"
      ]
     },
     "execution_count": 381,
     "metadata": {},
     "output_type": "execute_result"
    },
    {
     "data": {
      "image/png": "[encoded data removed]",
      "text/plain": [
       "<Figure size 432x288 with 1 Axes>"
      ]
     },
     "metadata": {
      "needs_background": "light"
     },
     "output_type": "display_data"
    }
   ],
   "source": [
    "sns.lineplot(x='year', y='Date', data=Crashes_by_year_df)"
   ]
  },
  {
   "cell_type": "code",
   "execution_count": 382,
   "id": "b051f56a-3a23-4b84-879a-ae9840ffac02",
   "metadata": {},
   "outputs": [
    {
     "data": {
      "text/plain": [
       "<AxesSubplot:title={'center':'gross in relation to years'}, xlabel='year'>"
      ]
     },
     "execution_count": 382,
     "metadata": {},
     "output_type": "execute_result"
    },
    {
     "data": {
      "image/png": "[encoded data removed]",
      "text/plain": [
       "<Figure size 1080x504 with 1 Axes>"
      ]
     },
     "metadata": {
      "needs_background": "light"
     },
     "output_type": "display_data"
    }
   ],
   "source": [
    "pd.pivot_table( Crashes_by_year_df,index = ['year'], values = ['Date']).plot(figsize=(15,7),xticks=(),title='gross in relation to years')\n"
   ]
  },
  {
   "cell_type": "markdown",
   "id": "06968735-7482-474e-8559-104666886ca2",
   "metadata": {},
   "source": [
    "לסדר את האיור \n",
    "לחשוב אם רוצים סרגל של השנים למטה צבעים וכו"
   ]
  },
  {
   "cell_type": "code",
   "execution_count": null,
   "id": "205798a4-c3ae-4bea-a370-d1d890aedaae",
   "metadata": {},
   "outputs": [],
   "source": []
  },
  {
   "cell_type": "code",
   "execution_count": 383,
   "id": "61b67d88-6e5e-43cb-b383-1e855357cece",
   "metadata": {},
   "outputs": [
    {
     "data": {
      "text/html": [
       "<div>\n",
       "<style scoped>\n",
       "    .dataframe tbody tr th:only-of-type {\n",
       "        vertical-align: middle;\n",
       "    }\n",
       "\n",
       "    .dataframe tbody tr th {\n",
       "        vertical-align: top;\n",
       "    }\n",
       "\n",
       "    .dataframe thead th {\n",
       "        text-align: right;\n",
       "    }\n",
       "</style>\n",
       "<table border=\"1\" class=\"dataframe\">\n",
       "  <thead>\n",
       "    <tr style=\"text-align: right;\">\n",
       "      <th></th>\n",
       "      <th>AC Type</th>\n",
       "      <th>Fatalities</th>\n",
       "    </tr>\n",
       "  </thead>\n",
       "  <tbody>\n",
       "    <tr>\n",
       "      <th>1123</th>\n",
       "      <td>Douglas DC-3</td>\n",
       "      <td>333</td>\n",
       "    </tr>\n",
       "    <tr>\n",
       "      <th>2384</th>\n",
       "      <td>de Havilland Canada DHC-6 Twin Otter 300</td>\n",
       "      <td>81</td>\n",
       "    </tr>\n",
       "    <tr>\n",
       "      <th>1036</th>\n",
       "      <td>Douglas C-47A</td>\n",
       "      <td>70</td>\n",
       "    </tr>\n",
       "    <tr>\n",
       "      <th>1026</th>\n",
       "      <td>Douglas C-47</td>\n",
       "      <td>64</td>\n",
       "    </tr>\n",
       "    <tr>\n",
       "      <th>1175</th>\n",
       "      <td>Douglas DC-4</td>\n",
       "      <td>38</td>\n",
       "    </tr>\n",
       "    <tr>\n",
       "      <th>...</th>\n",
       "      <td>...</td>\n",
       "      <td>...</td>\n",
       "    </tr>\n",
       "    <tr>\n",
       "      <th>885</th>\n",
       "      <td>Convair CV-340-62</td>\n",
       "      <td>1</td>\n",
       "    </tr>\n",
       "    <tr>\n",
       "      <th>884</th>\n",
       "      <td>Convair CV-340-59</td>\n",
       "      <td>1</td>\n",
       "    </tr>\n",
       "    <tr>\n",
       "      <th>882</th>\n",
       "      <td>Convair CV-340-32</td>\n",
       "      <td>1</td>\n",
       "    </tr>\n",
       "    <tr>\n",
       "      <th>880</th>\n",
       "      <td>Convair CV-300</td>\n",
       "      <td>1</td>\n",
       "    </tr>\n",
       "    <tr>\n",
       "      <th>2446</th>\n",
       "      <td>deHavilland DH-86</td>\n",
       "      <td>1</td>\n",
       "    </tr>\n",
       "  </tbody>\n",
       "</table>\n",
       "<p>2447 rows × 2 columns</p>\n",
       "</div>"
      ],
      "text/plain": [
       "                                       AC Type  Fatalities\n",
       "1123                              Douglas DC-3         333\n",
       "2384  de Havilland Canada DHC-6 Twin Otter 300          81\n",
       "1036                             Douglas C-47A          70\n",
       "1026                              Douglas C-47          64\n",
       "1175                              Douglas DC-4          38\n",
       "...                                        ...         ...\n",
       "885                          Convair CV-340-62           1\n",
       "884                          Convair CV-340-59           1\n",
       "882                          Convair CV-340-32           1\n",
       "880                             Convair CV-300           1\n",
       "2446                         deHavilland DH-86           1\n",
       "\n",
       "[2447 rows x 2 columns]"
      ]
     },
     "execution_count": 383,
     "metadata": {},
     "output_type": "execute_result"
    }
   ],
   "source": [
    "Crashes_by_ac=Crashes_df.groupby(\"AC Type\")[[\"Fatalities\"]].count().reset_index()\n",
    "Crashes_by_ac\n",
    "Crashes_by_ac.sort_values(\"Fatalities\", ascending = False)"
   ]
  },
  {
   "cell_type": "markdown",
   "id": "4829ad7f-2915-4766-8b09-ac94380adf9f",
   "metadata": {},
   "source": [
    "בדקנו באיזה סוג מטוסים התרסק הכי הרבה לכן נמליץ לא להשתמש במטוסים אלו"
   ]
  },
  {
   "cell_type": "markdown",
   "id": "f81a2d28-f5bb-480f-a4cc-5f03405e0f85",
   "metadata": {},
   "source": [
    "במדיה ואין ברירה אלא להשתמש במטוס שיש לו הסטוריה של התרסקויות נעדיף לקחת את המטוסים בעלי מספר ההתרסקויות הנמוך ביותר\n",
    "נבדוק מכל סוג מטוס שהתרסק באיזה מטוסים היה האחוז ניצולים הגדול ביותר"
   ]
  },
  {
   "cell_type": "code",
   "execution_count": 401,
   "id": "9750c0f6-b8b3-4037-8371-30aa51923320",
   "metadata": {},
   "outputs": [
    {
     "data": {
      "text/html": [
       "<div>\n",
       "<style scoped>\n",
       "    .dataframe tbody tr th:only-of-type {\n",
       "        vertical-align: middle;\n",
       "    }\n",
       "\n",
       "    .dataframe tbody tr th {\n",
       "        vertical-align: top;\n",
       "    }\n",
       "\n",
       "    .dataframe thead th {\n",
       "        text-align: right;\n",
       "    }\n",
       "</style>\n",
       "<table border=\"1\" class=\"dataframe\">\n",
       "  <thead>\n",
       "    <tr style=\"text-align: right;\">\n",
       "      <th></th>\n",
       "      <th>Fatalities</th>\n",
       "    </tr>\n",
       "  </thead>\n",
       "  <tbody>\n",
       "    <tr>\n",
       "      <th>0</th>\n",
       "      <td>True</td>\n",
       "    </tr>\n",
       "    <tr>\n",
       "      <th>1</th>\n",
       "      <td>True</td>\n",
       "    </tr>\n",
       "    <tr>\n",
       "      <th>2</th>\n",
       "      <td>True</td>\n",
       "    </tr>\n",
       "    <tr>\n",
       "      <th>3</th>\n",
       "      <td>True</td>\n",
       "    </tr>\n",
       "    <tr>\n",
       "      <th>4</th>\n",
       "      <td>True</td>\n",
       "    </tr>\n",
       "    <tr>\n",
       "      <th>...</th>\n",
       "      <td>...</td>\n",
       "    </tr>\n",
       "    <tr>\n",
       "      <th>4962</th>\n",
       "      <td>True</td>\n",
       "    </tr>\n",
       "    <tr>\n",
       "      <th>4963</th>\n",
       "      <td>True</td>\n",
       "    </tr>\n",
       "    <tr>\n",
       "      <th>4964</th>\n",
       "      <td>True</td>\n",
       "    </tr>\n",
       "    <tr>\n",
       "      <th>4965</th>\n",
       "      <td>True</td>\n",
       "    </tr>\n",
       "    <tr>\n",
       "      <th>4966</th>\n",
       "      <td>True</td>\n",
       "    </tr>\n",
       "  </tbody>\n",
       "</table>\n",
       "<p>3733 rows × 1 columns</p>\n",
       "</div>"
      ],
      "text/plain": [
       "      Fatalities\n",
       "0           True\n",
       "1           True\n",
       "2           True\n",
       "3           True\n",
       "4           True\n",
       "...          ...\n",
       "4962        True\n",
       "4963        True\n",
       "4964        True\n",
       "4965        True\n",
       "4966        True\n",
       "\n",
       "[3733 rows x 1 columns]"
      ]
     },
     "execution_count": 401,
     "metadata": {},
     "output_type": "execute_result"
    }
   ],
   "source": [
    "Crashes_by_ac=Crashes_df.groupby(\"AC Type\")[[\"Fatalities\"]]\n",
    "Crashes_by_ac.head()\n"
   ]
  },
  {
   "cell_type": "code",
   "execution_count": 385,
   "id": "28b59daa-262a-4f24-ad99-c2ced0e67a25",
   "metadata": {},
   "outputs": [],
   "source": [
    "Crashes_by_ac1=Crashes_df[\"Fatalities\"]==1\n",
    "\n",
    "#Crashes_by_ac1=Crashes_df.groupby(\"AC Type\")[[\"Fatalities\",\"Aboard\"]].count().reset_index()\n",
    "#Crashes_by_ac1[\"F_per\"]=Crashes_by_ac1\n"
   ]
  },
  {
   "cell_type": "code",
   "execution_count": null,
   "id": "58dcbe3b-adb6-402f-b8a3-e54bff9d6039",
   "metadata": {},
   "outputs": [],
   "source": []
  }
 ],
 "metadata": {
  "kernelspec": {
   "display_name": "Python 3 (ipykernel)",
   "language": "python",
   "name": "python3"
  },
  "language_info": {
   "codemirror_mode": {
    "name": "ipython",
    "version": 3
   },
   "file_extension": ".py",
   "mimetype": "text/x-python",
   "name": "python",
   "nbconvert_exporter": "python",
   "pygments_lexer": "ipython3",
   "version": "3.9.6"
  }
 },
 "nbformat": 4,
 "nbformat_minor": 5
}
